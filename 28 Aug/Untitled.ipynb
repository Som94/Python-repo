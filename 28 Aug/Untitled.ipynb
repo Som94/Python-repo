{
 "cells": [
  {
   "cell_type": "code",
   "execution_count": 2,
   "id": "8226f44c",
   "metadata": {},
   "outputs": [],
   "source": [
    "import boto3\n",
    "import pandas as pd"
   ]
  },
  {
   "cell_type": "code",
   "execution_count": 3,
   "id": "c9d8e4db",
   "metadata": {},
   "outputs": [],
   "source": [
    "s3=boto3.resource('s3')"
   ]
  },
  {
   "cell_type": "code",
   "execution_count": 5,
   "id": "1d94e39d",
   "metadata": {},
   "outputs": [],
   "source": [
    "s3.meta.client.upload_file(r\"E:\\Aroha Tech\\Python Session\\28 Aug\\Admin_userid_password.csv\", Bucket='som-aws-bucket-1' , Key='Admin_userid_password.csv')"
   ]
  },
  {
   "cell_type": "code",
   "execution_count": 6,
   "id": "063bb308",
   "metadata": {},
   "outputs": [],
   "source": [
    "s3_client=boto3.client('s3')"
   ]
  },
  {
   "cell_type": "code",
   "execution_count": 7,
   "id": "d0c4c2c1",
   "metadata": {},
   "outputs": [],
   "source": [
    "file=s3_client.get_object(Bucket='som-aws-bucket-1',Key='Admin_userid_password.csv')"
   ]
  },
  {
   "cell_type": "code",
   "execution_count": 11,
   "id": "12cc04a6",
   "metadata": {},
   "outputs": [],
   "source": [
    "file_df=pd.read_csv(file['Body'])"
   ]
  },
  {
   "cell_type": "code",
   "execution_count": 13,
   "id": "27c9cfa5",
   "metadata": {},
   "outputs": [
    {
     "data": {
      "text/html": [
       "<div>\n",
       "<style scoped>\n",
       "    .dataframe tbody tr th:only-of-type {\n",
       "        vertical-align: middle;\n",
       "    }\n",
       "\n",
       "    .dataframe tbody tr th {\n",
       "        vertical-align: top;\n",
       "    }\n",
       "\n",
       "    .dataframe thead th {\n",
       "        text-align: right;\n",
       "    }\n",
       "</style>\n",
       "<table border=\"1\" class=\"dataframe\">\n",
       "  <thead>\n",
       "    <tr style=\"text-align: right;\">\n",
       "      <th></th>\n",
       "      <th>user_id</th>\n",
       "      <th>password</th>\n",
       "    </tr>\n",
       "  </thead>\n",
       "  <tbody>\n",
       "    <tr>\n",
       "      <th>0</th>\n",
       "      <td>somnath</td>\n",
       "      <td>somnath123</td>\n",
       "    </tr>\n",
       "  </tbody>\n",
       "</table>\n",
       "</div>"
      ],
      "text/plain": [
       "   user_id    password\n",
       "0  somnath  somnath123"
      ]
     },
     "execution_count": 13,
     "metadata": {},
     "output_type": "execute_result"
    }
   ],
   "source": [
    "file_df"
   ]
  },
  {
   "cell_type": "code",
   "execution_count": 26,
   "id": "72d0e7b2",
   "metadata": {},
   "outputs": [],
   "source": [
    "user_id=file_df.iloc[0,0]"
   ]
  },
  {
   "cell_type": "code",
   "execution_count": 27,
   "id": "5e9dd5d6",
   "metadata": {},
   "outputs": [
    {
     "data": {
      "text/plain": [
       "'somnath'"
      ]
     },
     "execution_count": 27,
     "metadata": {},
     "output_type": "execute_result"
    }
   ],
   "source": [
    "user_id"
   ]
  },
  {
   "cell_type": "code",
   "execution_count": 30,
   "id": "7eae2da2",
   "metadata": {},
   "outputs": [],
   "source": [
    "password=file_df.iloc[0,1]"
   ]
  },
  {
   "cell_type": "code",
   "execution_count": 31,
   "id": "6d4c942e",
   "metadata": {},
   "outputs": [
    {
     "data": {
      "text/plain": [
       "'somnath123'"
      ]
     },
     "execution_count": 31,
     "metadata": {},
     "output_type": "execute_result"
    }
   ],
   "source": [
    "password"
   ]
  },
  {
   "cell_type": "code",
   "execution_count": null,
   "id": "fe52915c",
   "metadata": {},
   "outputs": [],
   "source": []
  }
 ],
 "metadata": {
  "kernelspec": {
   "display_name": "Python 3",
   "language": "python",
   "name": "python3"
  },
  "language_info": {
   "codemirror_mode": {
    "name": "ipython",
    "version": 3
   },
   "file_extension": ".py",
   "mimetype": "text/x-python",
   "name": "python",
   "nbconvert_exporter": "python",
   "pygments_lexer": "ipython3",
   "version": "3.8.8"
  }
 },
 "nbformat": 4,
 "nbformat_minor": 5
}
